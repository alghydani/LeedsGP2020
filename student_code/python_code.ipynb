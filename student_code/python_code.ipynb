{
 "cells": [
  {
   "cell_type": "code",
   "execution_count": 1,
   "metadata": {},
   "outputs": [
    {
     "name": "stderr",
     "output_type": "stream",
     "text": [
      "Got stderr: Jan 12, 2021 2:04:10 AM org.apache.pdfbox.pdmodel.font.PDCIDFontType2 <init>\n",
      "INFO: OpenType Layout tables used in font Times New Roman are not implemented in PDFBox and will be ignored\n",
      "Jan 12, 2021 2:04:11 AM org.apache.pdfbox.pdmodel.font.PDCIDFontType2 <init>\n",
      "INFO: OpenType Layout tables used in font Times New Roman are not implemented in PDFBox and will be ignored\n",
      "Jan 12, 2021 2:04:15 AM org.apache.pdfbox.pdmodel.font.PDCIDFontType2 <init>\n",
      "INFO: OpenType Layout tables used in font Times New Roman are not implemented in PDFBox and will be ignored\n",
      "Jan 12, 2021 2:04:16 AM org.apache.pdfbox.pdmodel.font.PDCIDFontType2 <init>\n",
      "INFO: OpenType Layout tables used in font Times New Roman are not implemented in PDFBox and will be ignored\n",
      "\n"
     ]
    }
   ],
   "source": [
    "\n",
    "import tabula\n",
    "from tabula import read_pdf\n",
    "df = tabula.convert_into(\"SDHH_CVD.pdf\", \"JupyterSDHH_CVD.csv\", output_format=\"csv\", pages='all')\n"
   ]
  },
  {
   "cell_type": "code",
   "execution_count": 2,
   "metadata": {},
   "outputs": [
    {
     "name": "stdout",
     "output_type": "stream",
     "text": [
      "        Unnamed: 0                               Hypertension patient  \\\n",
      "0       Definition  When systolic blood pressure is equal to or ab...   \n",
      "1    Metadata Type                                       Data Concept   \n",
      "2     Data Concept  Burden of Disease Risk information ,CVD, Hyper...   \n",
      "3     Reference ID                                              GA001   \n",
      "4         Synonyms                                     Not Applicable   \n",
      "..             ...                                                ...   \n",
      "143            NaN              3 = Angina of increasing frequency or   \n",
      "144            NaN  duration or refractory to nitroglycerin (Cresc...   \n",
      "145            NaN                                 4 = Angina at rest   \n",
      "146            NaN            5 = Variant angina (Prinzmetal angina).   \n",
      "147            NaN                                          6 = Other   \n",
      "\n",
      "    Unnamed: 2  \n",
      "0          NaN  \n",
      "1          NaN  \n",
      "2          NaN  \n",
      "3          NaN  \n",
      "4          NaN  \n",
      "..         ...  \n",
      "143        NaN  \n",
      "144        NaN  \n",
      "145        NaN  \n",
      "146        NaN  \n",
      "147        NaN  \n",
      "\n",
      "[148 rows x 3 columns]\n"
     ]
    }
   ],
   "source": [
    "import pandas as pd \n",
    "data = pd.read_csv(\"JupyterSDHH_CVD.csv\") \n",
    "print (data)\n"
   ]
  },
  {
   "cell_type": "code",
   "execution_count": null,
   "metadata": {},
   "outputs": [],
   "source": []
  }
 ],
 "metadata": {
  "kernelspec": {
   "display_name": "Python 3",
   "language": "python",
   "name": "python3"
  },
  "language_info": {
   "codemirror_mode": {
    "name": "ipython",
    "version": 3
   },
   "file_extension": ".py",
   "mimetype": "text/x-python",
   "name": "python",
   "nbconvert_exporter": "python",
   "pygments_lexer": "ipython3",
   "version": "3.7.4"
  }
 },
 "nbformat": 4,
 "nbformat_minor": 2
}
